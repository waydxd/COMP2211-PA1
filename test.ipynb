{
 "cells": [
  {
   "cell_type": "code",
   "execution_count": 21,
   "metadata": {},
   "outputs": [],
   "source": [
    "import numpy as np\n",
    "t1 = np.array([[1,1,2,2,3],[1,2,2,2,2]])\n",
    "d1 = np.array([0.1,0.2333,0.5,0.2,1.0],[1,2,3,4,5])\n"
   ]
  },
  {
   "cell_type": "code",
   "execution_count": 24,
   "metadata": {},
   "outputs": [
    {
     "name": "stdout",
     "output_type": "stream",
     "text": [
      "[[0.30000000000000004, 0.7, 1.0], [1, 14, 0]]\n"
     ]
    }
   ],
   "source": [
    "import numpy as np\n",
    "\n",
    "# Given arrays\n",
    "t1 = np.array([[0, 0, 1, 1, 2], [0, 1, 1, 1, 1]])\n",
    "d1 = np.array([[0.1, 0.2, 0.5, 0.2, 1.0], [1, 2, 3, 4, 5]])\n",
    "\n",
    "# Initialize the output array with zeros\n",
    "output = [np.zeros(t1.max()+1), np.zeros(t1.max()+1)]\n",
    "\n",
    "# Sum the values in d1 using the indices from t1\n",
    "for i in range(t1.shape[0]):\n",
    "    np.add.at(output[i], t1[i], d1[i])\n",
    "\n",
    "# Convert output to the desired format\n",
    "output = [output[0].tolist(), [int(x) for x in output[1]]]\n",
    "\n",
    "print(output)\n"
   ]
  },
  {
   "cell_type": "code",
   "execution_count": 20,
   "metadata": {},
   "outputs": [
    {
     "name": "stdout",
     "output_type": "stream",
     "text": [
      "[1 2 3 4]\n",
      "[0 2 4 9]\n",
      "[0 0 1 1 2 0 1 2 1 3]\n",
      "[3 4 2 1]\n"
     ]
    }
   ],
   "source": [
    "u, c, ind , inv = np.unique(t1,return_counts=1,return_index=1,return_inverse=1)\n",
    "print(u)\n",
    "print(c)\n",
    "print(ind)\n",
    "print(inv)\n",
    "#print(np.add.at(t1))"
   ]
  }
 ],
 "metadata": {
  "kernelspec": {
   "display_name": "Python 3",
   "language": "python",
   "name": "python3"
  },
  "language_info": {
   "codemirror_mode": {
    "name": "ipython",
    "version": 3
   },
   "file_extension": ".py",
   "mimetype": "text/x-python",
   "name": "python",
   "nbconvert_exporter": "python",
   "pygments_lexer": "ipython3",
   "version": "3.11.7"
  }
 },
 "nbformat": 4,
 "nbformat_minor": 2
}
